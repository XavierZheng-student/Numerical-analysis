{
 "cells": [
  {
   "cell_type": "markdown",
   "id": "56191cb2",
   "metadata": {},
   "source": [
    "# Householder矩阵\n",
    "## Householder矩阵的定义\n",
    "> 如果$H=I-2\\omega\\omega^{T} ,\\quad$其中，${\\parallel \\omega\\parallel}_{2}=1$。则称$H$为Householder矩阵。\n",
    "\n",
    "## Householder矩阵的性质\n",
    "> - Householder矩阵是Hemiter矩阵\n",
    "> - Householder矩阵是正交矩阵\n",
    "> - 正交变换不改变向量的长度，即：$\\forall x\\in R^{n},\\quad{\\parallel Hx \\parallel}_{2} = {\\parallel x \\parallel}_{2}$\n",
    "\n",
    "## 定理1\n",
    "> 设$x、y\\in R^2$,且$ {\\parallel x\\parallel}_2={\\parallel y\\parallel}_2$，则$ \\exists {\\text{Householder矩阵}H}$，使得$ Hx\n",
    "=y$\n"
   ]
  },
  {
   "cell_type": "markdown",
   "id": "ecb4ba04",
   "metadata": {},
   "source": [
    "# 针对列向量的Householder正交变换\n"
   ]
  },
  {
   "cell_type": "code",
   "execution_count": 1,
   "id": "20f6f8f4",
   "metadata": {},
   "outputs": [],
   "source": [
    "import numpy as np"
   ]
  },
  {
   "cell_type": "code",
   "execution_count": 2,
   "id": "e4b580e0",
   "metadata": {},
   "outputs": [],
   "source": [
    "x1 = np.array([1,3,4]).reshape((-1,1))#目标向量\n",
    "## 生成相应的单位向量\n",
    "e1 = np.zeros(x1.shape[0])\n",
    "e1[0]=1\n",
    "y1 = (-np.sign(x1[0])*np.linalg.norm(x1)*e1).reshape((-1,1))\n",
    "# 计算rho\n",
    "rho = 2 / (np.dot((y1 - x1).T, (y1 - x1)))\n",
    "I= np.identity(x1.shape[0])\n",
    "omega =y1-x1\n",
    "H1 = I-rho * np.dot(omega,omega.T)"
   ]
  },
  {
   "cell_type": "code",
   "execution_count": 3,
   "id": "41905789",
   "metadata": {},
   "outputs": [
    {
     "data": {
      "text/plain": [
       "array([[-5.09901951e+00],\n",
       "       [-4.44089210e-16],\n",
       "       [-4.44089210e-16]])"
      ]
     },
     "execution_count": 3,
     "metadata": {},
     "output_type": "execute_result"
    }
   ],
   "source": [
    "np.dot(H1,x1)"
   ]
  },
  {
   "cell_type": "code",
   "execution_count": 26,
   "id": "bc331ec8",
   "metadata": {},
   "outputs": [],
   "source": [
    "x1 = np.array([1,3,4]).reshape((-1,1))#目标向量\n",
    "x1_=x1[1:]\n",
    "## 生成相应的单位向量\n",
    "e1 = np.zeros(x1_.shape[0])\n",
    "e1[0]=1\n",
    "y1 = (-np.sign(x1_[0])*np.linalg.norm(x1_)*e1).reshape((-1,1))\n",
    "# 计算rho\n",
    "rho = 2 / (np.dot((y1 - x1_).T, (y1 - x1_)))\n",
    "I= np.identity(x1.shape[0])\n",
    "omega = np.concatenate((np.array([0]).reshape((-1,1)), y1-x1_))\n",
    "H1 = I-rho * np.dot(omega,omega.T)"
   ]
  },
  {
   "cell_type": "code",
   "execution_count": 27,
   "id": "bde10271",
   "metadata": {},
   "outputs": [
    {
     "data": {
      "text/plain": [
       "array([[ 1.0000000e+00],\n",
       "       [-5.0000000e+00],\n",
       "       [-4.4408921e-16]])"
      ]
     },
     "execution_count": 27,
     "metadata": {},
     "output_type": "execute_result"
    }
   ],
   "source": [
    "np.dot(H1,x1)"
   ]
  },
  {
   "cell_type": "markdown",
   "id": "b6965f14",
   "metadata": {},
   "source": [
    "# 针对矩阵的Householder正交相似变换"
   ]
  },
  {
   "cell_type": "code",
   "execution_count": 23,
   "id": "d54d556d",
   "metadata": {},
   "outputs": [],
   "source": [
    "A=np.array([[1,3,4],[3,1,2],[4,2,1]])#目标矩阵\n",
    "n=A.shape[0]\n",
    "matrix=[] #储存矩阵\n",
    "HA=[]#储存变换后的向量\n",
    "for i in range(n-2):\n",
    "    x=A[:,i].reshape((-1,1))\n",
    "    x_=x[i+1:].reshape((-1,1))\n",
    "    ## 生成相应的单位向量\n",
    "    e1 = np.zeros(x_.shape[0])\n",
    "    e1[0]=1\n",
    "    y = (-np.sign(x_[0])*np.linalg.norm(x_)*e1).reshape((-1,1))\n",
    "    # 计算rho\n",
    "    rho = 2 / (np.dot((y - x_).T, (y - x_)))\n",
    "    I= np.identity(x1.shape[0])\n",
    "    omega = np.concatenate((np.array([0]*(i+1)).reshape((-1,1)), y-x_))\n",
    "    H = I-rho * np.dot(omega,omega.T)\n",
    "    matrix.append(H)\n",
    "    HA.append(np.dot(H,x))\n",
    "HA_=np.column_stack(HA)#最终简约后的矩阵"
   ]
  },
  {
   "cell_type": "markdown",
   "id": "b609c374",
   "metadata": {},
   "source": [
    "# 改进后的针对矩阵的Householder正交相似变换\n",
    "> 参考的是：黄云清老师的《数值分析方法》教材"
   ]
  },
  {
   "cell_type": "code",
   "execution_count": 38,
   "id": "e6c6d6e6",
   "metadata": {},
   "outputs": [],
   "source": [
    "A=np.array([[1,3,4],[3,1,2],[4,2,1]])#目标矩阵\n",
    "n=A.shape[0]\n",
    "matrix=[] #储存矩阵\n",
    "HA=[]#储存变换后的向量\n",
    "for i in range(n-2):\n",
    "    x=A[:,i].reshape((-1,1))\n",
    "    x_=x[i+1:].reshape((-1,1))\n",
    "    eta=max(x_)\n",
    "    if eta==0:\n",
    "        matrix.append(np.identity(n))\n",
    "        HA.append(x)\n",
    "        contiue\n",
    "    x_=x_ /eta\n",
    "    sigma=np.sign(x_[0])*np.linalg.norm(x_)\n",
    "    beta=sigma*(sigma+x_[0])\n",
    "    x_[0]=x_[0]+sigma\n",
    "    omega = np.concatenate((np.array([0]*(i+1)).reshape((-1,1)),x_))\n",
    "    H = I-1/beta * np.dot(omega,omega.T)\n",
    "    matrix.append(H)\n",
    "    HA.append(np.dot(H,x))\n",
    "HA_=np.column_stack(HA)#最终简约后的矩阵"
   ]
  },
  {
   "cell_type": "code",
   "execution_count": 39,
   "id": "50b92d12",
   "metadata": {},
   "outputs": [
    {
     "data": {
      "text/plain": [
       "array([[ 1.0000000e+00],\n",
       "       [-5.0000000e+00],\n",
       "       [-4.4408921e-16]])"
      ]
     },
     "execution_count": 39,
     "metadata": {},
     "output_type": "execute_result"
    }
   ],
   "source": [
    "HA_"
   ]
  },
  {
   "cell_type": "code",
   "execution_count": null,
   "id": "4e0de157",
   "metadata": {},
   "outputs": [],
   "source": []
  }
 ],
 "metadata": {
  "kernelspec": {
   "display_name": "Python 3 (ipykernel)",
   "language": "python",
   "name": "python3"
  },
  "language_info": {
   "codemirror_mode": {
    "name": "ipython",
    "version": 3
   },
   "file_extension": ".py",
   "mimetype": "text/x-python",
   "name": "python",
   "nbconvert_exporter": "python",
   "pygments_lexer": "ipython3",
   "version": "3.9.7"
  },
  "toc": {
   "base_numbering": 1,
   "nav_menu": {},
   "number_sections": true,
   "sideBar": true,
   "skip_h1_title": false,
   "title_cell": "Table of Contents",
   "title_sidebar": "Contents",
   "toc_cell": false,
   "toc_position": {
    "height": "calc(100% - 180px)",
    "left": "10px",
    "top": "150px",
    "width": "279.273px"
   },
   "toc_section_display": true,
   "toc_window_display": true
  },
  "varInspector": {
   "cols": {
    "lenName": 16,
    "lenType": 16,
    "lenVar": 40
   },
   "kernels_config": {
    "python": {
     "delete_cmd_postfix": "",
     "delete_cmd_prefix": "del ",
     "library": "var_list.py",
     "varRefreshCmd": "print(var_dic_list())"
    },
    "r": {
     "delete_cmd_postfix": ") ",
     "delete_cmd_prefix": "rm(",
     "library": "var_list.r",
     "varRefreshCmd": "cat(var_dic_list()) "
    }
   },
   "types_to_exclude": [
    "module",
    "function",
    "builtin_function_or_method",
    "instance",
    "_Feature"
   ],
   "window_display": false
  }
 },
 "nbformat": 4,
 "nbformat_minor": 5
}
